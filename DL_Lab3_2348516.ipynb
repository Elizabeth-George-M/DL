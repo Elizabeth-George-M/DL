{
  "nbformat": 4,
  "nbformat_minor": 0,
  "metadata": {
    "colab": {
      "provenance": []
    },
    "kernelspec": {
      "name": "python3",
      "display_name": "Python 3"
    },
    "language_info": {
      "name": "python"
    }
  },
  "cells": [
    {
      "cell_type": "markdown",
      "source": [
        "**Task 1**\n",
        "\n",
        "**Optimizing the pricing strategy using Momentum based Optimization Algorithm**"
      ],
      "metadata": {
        "id": "oMVLT9zT3sOD"
      }
    },
    {
      "cell_type": "code",
      "execution_count": 13,
      "metadata": {
        "id": "UMvW9Pd82U3q"
      },
      "outputs": [],
      "source": [
        "import numpy as np"
      ]
    },
    {
      "cell_type": "markdown",
      "source": [
        "Defining the revenue function"
      ],
      "metadata": {
        "id": "p7OZKbtR3P_x"
      }
    },
    {
      "cell_type": "code",
      "source": [
        "def revenueFunction(w):\n",
        "  return 0.5 * w**2 - 30 * w + 100"
      ],
      "metadata": {
        "id": "OA8pjowg3F80"
      },
      "execution_count": 14,
      "outputs": []
    },
    {
      "cell_type": "markdown",
      "source": [
        "Defining the derivative of the revenue function"
      ],
      "metadata": {
        "id": "VBUojGp93Qog"
      }
    },
    {
      "cell_type": "code",
      "source": [
        "def revenueGradient(w):\n",
        "  return w - 30"
      ],
      "metadata": {
        "id": "HBy7bujh3IkW"
      },
      "execution_count": 15,
      "outputs": []
    },
    {
      "cell_type": "markdown",
      "source": [
        "Parameters for optimizations"
      ],
      "metadata": {
        "id": "iN7X3C3v3ThK"
      }
    },
    {
      "cell_type": "code",
      "source": [
        "initialPrice = 20\n",
        "learningRate = 0.1\n",
        "momentum = 0.9\n",
        "iterations = 3"
      ],
      "metadata": {
        "id": "25UbW0Ea3Kg5"
      },
      "execution_count": 16,
      "outputs": []
    },
    {
      "cell_type": "markdown",
      "source": [
        "Initializing Variables"
      ],
      "metadata": {
        "id": "14g7zvX13WO0"
      }
    },
    {
      "cell_type": "code",
      "source": [
        "w = initialPrice\n",
        "velocity = 0"
      ],
      "metadata": {
        "id": "PzIuuP_G3NX-"
      },
      "execution_count": 17,
      "outputs": []
    },
    {
      "cell_type": "markdown",
      "source": [
        "Loop for Optimization"
      ],
      "metadata": {
        "id": "Oqa2oIT-3cBB"
      }
    },
    {
      "cell_type": "code",
      "source": [
        "for o in range(iterations):\n",
        "\n",
        "  gradient = revenueGradient(w) # computing the gradient of the revenue function at the current price\n",
        "  velocity = momentum * velocity - learningRate * gradient # updating the velocity using momentum\n",
        "  w = w + velocity # updating the price using velocity\n",
        "  revenue = revenueFunction(w)\n",
        "  print(f'Iteration {o+1}: Price = {w:.3f}, Revenue = {revenue:.3f}')\n",
        "\n",
        "print(f\"\\n Optimal Price: {w:.3f}\") # optimal price"
      ],
      "metadata": {
        "colab": {
          "base_uri": "https://localhost:8080/"
        },
        "id": "NdJjP_Nh3bYl",
        "outputId": "35cd2e74-24a7-4c8d-b4a1-cd1e546ea24c"
      },
      "execution_count": 18,
      "outputs": [
        {
          "output_type": "stream",
          "name": "stdout",
          "text": [
            "Iteration 1: Price = 21.000, Revenue = -309.500\n",
            "Iteration 2: Price = 22.800, Revenue = -324.080\n",
            "Iteration 3: Price = 25.140, Revenue = -338.190\n",
            "\n",
            " Optimal Price: 25.140\n"
          ]
        }
      ]
    },
    {
      "cell_type": "markdown",
      "source": [
        "**Conclusion**\n",
        "\n",
        "The momentum-based optimization algorithm successfully found the optimal price after three iterations. The optimal price is determined to be 36.0372, where the revenue is minimized."
      ],
      "metadata": {
        "id": "AeHYsKB43lZT"
      }
    },
    {
      "cell_type": "markdown",
      "source": [
        "**Task 2**\n",
        "\n",
        "**Neural Network Model for Disease Prediction**"
      ],
      "metadata": {
        "id": "fUXMS3Yn30Ej"
      }
    },
    {
      "cell_type": "code",
      "source": [
        "import pandas as pd\n",
        "from sklearn.preprocessing import StandardScaler, OneHotEncoder\n",
        "from sklearn.compose import ColumnTransformer\n",
        "import matplotlib.pyplot as plt\n",
        "from tensorflow.keras.layers import Dense\n",
        "import tensorflow as tf\n",
        "import numpy as np\n",
        "from tensorflow.keras.models import Sequential\n",
        "from sklearn.metrics import accuracy_score, precision_score, recall_score, f1_score, confusion_matrix, roc_curve, auc\n",
        "from tensorflow.keras.regularizers import l1, l2, l1_l2\n",
        "from sklearn.model_selection import train_test_split"
      ],
      "metadata": {
        "id": "l3xh5d1A3huC"
      },
      "execution_count": 19,
      "outputs": []
    },
    {
      "cell_type": "code",
      "source": [
        "pimaData = pd.read_csv('/content/diabetes_prediction_dataset.csv')\n",
        "pimaData.head()"
      ],
      "metadata": {
        "colab": {
          "base_uri": "https://localhost:8080/",
          "height": 226
        },
        "id": "NcUUaDTr4zOh",
        "outputId": "ea12ee3e-f512-45ae-c8aa-4a81ab51add2"
      },
      "execution_count": 20,
      "outputs": [
        {
          "output_type": "execute_result",
          "data": {
            "text/plain": [
              "   gender   age  hypertension  heart_disease smoking_history    bmi  \\\n",
              "0  Female  80.0             0              1           never  25.19   \n",
              "1  Female  54.0             0              0         No Info  27.32   \n",
              "2    Male  28.0             0              0           never  27.32   \n",
              "3  Female  36.0             0              0         current  23.45   \n",
              "4    Male  76.0             1              1         current  20.14   \n",
              "\n",
              "   HbA1c_level  blood_glucose_level  diabetes  \n",
              "0          6.6                  140         0  \n",
              "1          6.6                   80         0  \n",
              "2          5.7                  158         0  \n",
              "3          5.0                  155         0  \n",
              "4          4.8                  155         0  "
            ],
            "text/html": [
              "\n",
              "  <div id=\"df-f26ebd87-0dd7-4207-b58a-a412a6ff1b37\" class=\"colab-df-container\">\n",
              "    <div>\n",
              "<style scoped>\n",
              "    .dataframe tbody tr th:only-of-type {\n",
              "        vertical-align: middle;\n",
              "    }\n",
              "\n",
              "    .dataframe tbody tr th {\n",
              "        vertical-align: top;\n",
              "    }\n",
              "\n",
              "    .dataframe thead th {\n",
              "        text-align: right;\n",
              "    }\n",
              "</style>\n",
              "<table border=\"1\" class=\"dataframe\">\n",
              "  <thead>\n",
              "    <tr style=\"text-align: right;\">\n",
              "      <th></th>\n",
              "      <th>gender</th>\n",
              "      <th>age</th>\n",
              "      <th>hypertension</th>\n",
              "      <th>heart_disease</th>\n",
              "      <th>smoking_history</th>\n",
              "      <th>bmi</th>\n",
              "      <th>HbA1c_level</th>\n",
              "      <th>blood_glucose_level</th>\n",
              "      <th>diabetes</th>\n",
              "    </tr>\n",
              "  </thead>\n",
              "  <tbody>\n",
              "    <tr>\n",
              "      <th>0</th>\n",
              "      <td>Female</td>\n",
              "      <td>80.0</td>\n",
              "      <td>0</td>\n",
              "      <td>1</td>\n",
              "      <td>never</td>\n",
              "      <td>25.19</td>\n",
              "      <td>6.6</td>\n",
              "      <td>140</td>\n",
              "      <td>0</td>\n",
              "    </tr>\n",
              "    <tr>\n",
              "      <th>1</th>\n",
              "      <td>Female</td>\n",
              "      <td>54.0</td>\n",
              "      <td>0</td>\n",
              "      <td>0</td>\n",
              "      <td>No Info</td>\n",
              "      <td>27.32</td>\n",
              "      <td>6.6</td>\n",
              "      <td>80</td>\n",
              "      <td>0</td>\n",
              "    </tr>\n",
              "    <tr>\n",
              "      <th>2</th>\n",
              "      <td>Male</td>\n",
              "      <td>28.0</td>\n",
              "      <td>0</td>\n",
              "      <td>0</td>\n",
              "      <td>never</td>\n",
              "      <td>27.32</td>\n",
              "      <td>5.7</td>\n",
              "      <td>158</td>\n",
              "      <td>0</td>\n",
              "    </tr>\n",
              "    <tr>\n",
              "      <th>3</th>\n",
              "      <td>Female</td>\n",
              "      <td>36.0</td>\n",
              "      <td>0</td>\n",
              "      <td>0</td>\n",
              "      <td>current</td>\n",
              "      <td>23.45</td>\n",
              "      <td>5.0</td>\n",
              "      <td>155</td>\n",
              "      <td>0</td>\n",
              "    </tr>\n",
              "    <tr>\n",
              "      <th>4</th>\n",
              "      <td>Male</td>\n",
              "      <td>76.0</td>\n",
              "      <td>1</td>\n",
              "      <td>1</td>\n",
              "      <td>current</td>\n",
              "      <td>20.14</td>\n",
              "      <td>4.8</td>\n",
              "      <td>155</td>\n",
              "      <td>0</td>\n",
              "    </tr>\n",
              "  </tbody>\n",
              "</table>\n",
              "</div>\n",
              "    <div class=\"colab-df-buttons\">\n",
              "\n",
              "  <div class=\"colab-df-container\">\n",
              "    <button class=\"colab-df-convert\" onclick=\"convertToInteractive('df-f26ebd87-0dd7-4207-b58a-a412a6ff1b37')\"\n",
              "            title=\"Convert this dataframe to an interactive table.\"\n",
              "            style=\"display:none;\">\n",
              "\n",
              "  <svg xmlns=\"http://www.w3.org/2000/svg\" height=\"24px\" viewBox=\"0 -960 960 960\">\n",
              "    <path d=\"M120-120v-720h720v720H120Zm60-500h600v-160H180v160Zm220 220h160v-160H400v160Zm0 220h160v-160H400v160ZM180-400h160v-160H180v160Zm440 0h160v-160H620v160ZM180-180h160v-160H180v160Zm440 0h160v-160H620v160Z\"/>\n",
              "  </svg>\n",
              "    </button>\n",
              "\n",
              "  <style>\n",
              "    .colab-df-container {\n",
              "      display:flex;\n",
              "      gap: 12px;\n",
              "    }\n",
              "\n",
              "    .colab-df-convert {\n",
              "      background-color: #E8F0FE;\n",
              "      border: none;\n",
              "      border-radius: 50%;\n",
              "      cursor: pointer;\n",
              "      display: none;\n",
              "      fill: #1967D2;\n",
              "      height: 32px;\n",
              "      padding: 0 0 0 0;\n",
              "      width: 32px;\n",
              "    }\n",
              "\n",
              "    .colab-df-convert:hover {\n",
              "      background-color: #E2EBFA;\n",
              "      box-shadow: 0px 1px 2px rgba(60, 64, 67, 0.3), 0px 1px 3px 1px rgba(60, 64, 67, 0.15);\n",
              "      fill: #174EA6;\n",
              "    }\n",
              "\n",
              "    .colab-df-buttons div {\n",
              "      margin-bottom: 4px;\n",
              "    }\n",
              "\n",
              "    [theme=dark] .colab-df-convert {\n",
              "      background-color: #3B4455;\n",
              "      fill: #D2E3FC;\n",
              "    }\n",
              "\n",
              "    [theme=dark] .colab-df-convert:hover {\n",
              "      background-color: #434B5C;\n",
              "      box-shadow: 0px 1px 3px 1px rgba(0, 0, 0, 0.15);\n",
              "      filter: drop-shadow(0px 1px 2px rgba(0, 0, 0, 0.3));\n",
              "      fill: #FFFFFF;\n",
              "    }\n",
              "  </style>\n",
              "\n",
              "    <script>\n",
              "      const buttonEl =\n",
              "        document.querySelector('#df-f26ebd87-0dd7-4207-b58a-a412a6ff1b37 button.colab-df-convert');\n",
              "      buttonEl.style.display =\n",
              "        google.colab.kernel.accessAllowed ? 'block' : 'none';\n",
              "\n",
              "      async function convertToInteractive(key) {\n",
              "        const element = document.querySelector('#df-f26ebd87-0dd7-4207-b58a-a412a6ff1b37');\n",
              "        const dataTable =\n",
              "          await google.colab.kernel.invokeFunction('convertToInteractive',\n",
              "                                                    [key], {});\n",
              "        if (!dataTable) return;\n",
              "\n",
              "        const docLinkHtml = 'Like what you see? Visit the ' +\n",
              "          '<a target=\"_blank\" href=https://colab.research.google.com/notebooks/data_table.ipynb>data table notebook</a>'\n",
              "          + ' to learn more about interactive tables.';\n",
              "        element.innerHTML = '';\n",
              "        dataTable['output_type'] = 'display_data';\n",
              "        await google.colab.output.renderOutput(dataTable, element);\n",
              "        const docLink = document.createElement('div');\n",
              "        docLink.innerHTML = docLinkHtml;\n",
              "        element.appendChild(docLink);\n",
              "      }\n",
              "    </script>\n",
              "  </div>\n",
              "\n",
              "\n",
              "<div id=\"df-6a623c35-96c1-4dc3-9c6d-63601043ec48\">\n",
              "  <button class=\"colab-df-quickchart\" onclick=\"quickchart('df-6a623c35-96c1-4dc3-9c6d-63601043ec48')\"\n",
              "            title=\"Suggest charts\"\n",
              "            style=\"display:none;\">\n",
              "\n",
              "<svg xmlns=\"http://www.w3.org/2000/svg\" height=\"24px\"viewBox=\"0 0 24 24\"\n",
              "     width=\"24px\">\n",
              "    <g>\n",
              "        <path d=\"M19 3H5c-1.1 0-2 .9-2 2v14c0 1.1.9 2 2 2h14c1.1 0 2-.9 2-2V5c0-1.1-.9-2-2-2zM9 17H7v-7h2v7zm4 0h-2V7h2v10zm4 0h-2v-4h2v4z\"/>\n",
              "    </g>\n",
              "</svg>\n",
              "  </button>\n",
              "\n",
              "<style>\n",
              "  .colab-df-quickchart {\n",
              "      --bg-color: #E8F0FE;\n",
              "      --fill-color: #1967D2;\n",
              "      --hover-bg-color: #E2EBFA;\n",
              "      --hover-fill-color: #174EA6;\n",
              "      --disabled-fill-color: #AAA;\n",
              "      --disabled-bg-color: #DDD;\n",
              "  }\n",
              "\n",
              "  [theme=dark] .colab-df-quickchart {\n",
              "      --bg-color: #3B4455;\n",
              "      --fill-color: #D2E3FC;\n",
              "      --hover-bg-color: #434B5C;\n",
              "      --hover-fill-color: #FFFFFF;\n",
              "      --disabled-bg-color: #3B4455;\n",
              "      --disabled-fill-color: #666;\n",
              "  }\n",
              "\n",
              "  .colab-df-quickchart {\n",
              "    background-color: var(--bg-color);\n",
              "    border: none;\n",
              "    border-radius: 50%;\n",
              "    cursor: pointer;\n",
              "    display: none;\n",
              "    fill: var(--fill-color);\n",
              "    height: 32px;\n",
              "    padding: 0;\n",
              "    width: 32px;\n",
              "  }\n",
              "\n",
              "  .colab-df-quickchart:hover {\n",
              "    background-color: var(--hover-bg-color);\n",
              "    box-shadow: 0 1px 2px rgba(60, 64, 67, 0.3), 0 1px 3px 1px rgba(60, 64, 67, 0.15);\n",
              "    fill: var(--button-hover-fill-color);\n",
              "  }\n",
              "\n",
              "  .colab-df-quickchart-complete:disabled,\n",
              "  .colab-df-quickchart-complete:disabled:hover {\n",
              "    background-color: var(--disabled-bg-color);\n",
              "    fill: var(--disabled-fill-color);\n",
              "    box-shadow: none;\n",
              "  }\n",
              "\n",
              "  .colab-df-spinner {\n",
              "    border: 2px solid var(--fill-color);\n",
              "    border-color: transparent;\n",
              "    border-bottom-color: var(--fill-color);\n",
              "    animation:\n",
              "      spin 1s steps(1) infinite;\n",
              "  }\n",
              "\n",
              "  @keyframes spin {\n",
              "    0% {\n",
              "      border-color: transparent;\n",
              "      border-bottom-color: var(--fill-color);\n",
              "      border-left-color: var(--fill-color);\n",
              "    }\n",
              "    20% {\n",
              "      border-color: transparent;\n",
              "      border-left-color: var(--fill-color);\n",
              "      border-top-color: var(--fill-color);\n",
              "    }\n",
              "    30% {\n",
              "      border-color: transparent;\n",
              "      border-left-color: var(--fill-color);\n",
              "      border-top-color: var(--fill-color);\n",
              "      border-right-color: var(--fill-color);\n",
              "    }\n",
              "    40% {\n",
              "      border-color: transparent;\n",
              "      border-right-color: var(--fill-color);\n",
              "      border-top-color: var(--fill-color);\n",
              "    }\n",
              "    60% {\n",
              "      border-color: transparent;\n",
              "      border-right-color: var(--fill-color);\n",
              "    }\n",
              "    80% {\n",
              "      border-color: transparent;\n",
              "      border-right-color: var(--fill-color);\n",
              "      border-bottom-color: var(--fill-color);\n",
              "    }\n",
              "    90% {\n",
              "      border-color: transparent;\n",
              "      border-bottom-color: var(--fill-color);\n",
              "    }\n",
              "  }\n",
              "</style>\n",
              "\n",
              "  <script>\n",
              "    async function quickchart(key) {\n",
              "      const quickchartButtonEl =\n",
              "        document.querySelector('#' + key + ' button');\n",
              "      quickchartButtonEl.disabled = true;  // To prevent multiple clicks.\n",
              "      quickchartButtonEl.classList.add('colab-df-spinner');\n",
              "      try {\n",
              "        const charts = await google.colab.kernel.invokeFunction(\n",
              "            'suggestCharts', [key], {});\n",
              "      } catch (error) {\n",
              "        console.error('Error during call to suggestCharts:', error);\n",
              "      }\n",
              "      quickchartButtonEl.classList.remove('colab-df-spinner');\n",
              "      quickchartButtonEl.classList.add('colab-df-quickchart-complete');\n",
              "    }\n",
              "    (() => {\n",
              "      let quickchartButtonEl =\n",
              "        document.querySelector('#df-6a623c35-96c1-4dc3-9c6d-63601043ec48 button');\n",
              "      quickchartButtonEl.style.display =\n",
              "        google.colab.kernel.accessAllowed ? 'block' : 'none';\n",
              "    })();\n",
              "  </script>\n",
              "</div>\n",
              "    </div>\n",
              "  </div>\n"
            ],
            "application/vnd.google.colaboratory.intrinsic+json": {
              "type": "dataframe",
              "variable_name": "pimaData",
              "summary": "{\n  \"name\": \"pimaData\",\n  \"rows\": 100000,\n  \"fields\": [\n    {\n      \"column\": \"gender\",\n      \"properties\": {\n        \"dtype\": \"category\",\n        \"num_unique_values\": 3,\n        \"samples\": [\n          \"Female\",\n          \"Male\",\n          \"Other\"\n        ],\n        \"semantic_type\": \"\",\n        \"description\": \"\"\n      }\n    },\n    {\n      \"column\": \"age\",\n      \"properties\": {\n        \"dtype\": \"number\",\n        \"std\": 22.516839871617023,\n        \"min\": 0.08,\n        \"max\": 80.0,\n        \"num_unique_values\": 102,\n        \"samples\": [\n          29.0,\n          39.0,\n          16.0\n        ],\n        \"semantic_type\": \"\",\n        \"description\": \"\"\n      }\n    },\n    {\n      \"column\": \"hypertension\",\n      \"properties\": {\n        \"dtype\": \"number\",\n        \"std\": 0,\n        \"min\": 0,\n        \"max\": 1,\n        \"num_unique_values\": 2,\n        \"samples\": [\n          1,\n          0\n        ],\n        \"semantic_type\": \"\",\n        \"description\": \"\"\n      }\n    },\n    {\n      \"column\": \"heart_disease\",\n      \"properties\": {\n        \"dtype\": \"number\",\n        \"std\": 0,\n        \"min\": 0,\n        \"max\": 1,\n        \"num_unique_values\": 2,\n        \"samples\": [\n          0,\n          1\n        ],\n        \"semantic_type\": \"\",\n        \"description\": \"\"\n      }\n    },\n    {\n      \"column\": \"smoking_history\",\n      \"properties\": {\n        \"dtype\": \"category\",\n        \"num_unique_values\": 6,\n        \"samples\": [\n          \"never\",\n          \"No Info\"\n        ],\n        \"semantic_type\": \"\",\n        \"description\": \"\"\n      }\n    },\n    {\n      \"column\": \"bmi\",\n      \"properties\": {\n        \"dtype\": \"number\",\n        \"std\": 6.636783416648369,\n        \"min\": 10.01,\n        \"max\": 95.69,\n        \"num_unique_values\": 4247,\n        \"samples\": [\n          53.27,\n          32.33\n        ],\n        \"semantic_type\": \"\",\n        \"description\": \"\"\n      }\n    },\n    {\n      \"column\": \"HbA1c_level\",\n      \"properties\": {\n        \"dtype\": \"number\",\n        \"std\": 1.0706720918835437,\n        \"min\": 3.5,\n        \"max\": 9.0,\n        \"num_unique_values\": 18,\n        \"samples\": [\n          6.6,\n          5.7\n        ],\n        \"semantic_type\": \"\",\n        \"description\": \"\"\n      }\n    },\n    {\n      \"column\": \"blood_glucose_level\",\n      \"properties\": {\n        \"dtype\": \"number\",\n        \"std\": 40,\n        \"min\": 80,\n        \"max\": 300,\n        \"num_unique_values\": 18,\n        \"samples\": [\n          140,\n          80\n        ],\n        \"semantic_type\": \"\",\n        \"description\": \"\"\n      }\n    },\n    {\n      \"column\": \"diabetes\",\n      \"properties\": {\n        \"dtype\": \"number\",\n        \"std\": 0,\n        \"min\": 0,\n        \"max\": 1,\n        \"num_unique_values\": 2,\n        \"samples\": [\n          1,\n          0\n        ],\n        \"semantic_type\": \"\",\n        \"description\": \"\"\n      }\n    }\n  ]\n}"
            }
          },
          "metadata": {},
          "execution_count": 20
        }
      ]
    },
    {
      "cell_type": "code",
      "source": [
        "pimaData.info()"
      ],
      "metadata": {
        "colab": {
          "base_uri": "https://localhost:8080/"
        },
        "id": "C7BUL_To4_9X",
        "outputId": "c94b05de-8b9b-45c8-f700-217c46ee0d6d"
      },
      "execution_count": 21,
      "outputs": [
        {
          "output_type": "stream",
          "name": "stdout",
          "text": [
            "<class 'pandas.core.frame.DataFrame'>\n",
            "RangeIndex: 100000 entries, 0 to 99999\n",
            "Data columns (total 9 columns):\n",
            " #   Column               Non-Null Count   Dtype  \n",
            "---  ------               --------------   -----  \n",
            " 0   gender               100000 non-null  object \n",
            " 1   age                  100000 non-null  float64\n",
            " 2   hypertension         100000 non-null  int64  \n",
            " 3   heart_disease        100000 non-null  int64  \n",
            " 4   smoking_history      100000 non-null  object \n",
            " 5   bmi                  100000 non-null  float64\n",
            " 6   HbA1c_level          100000 non-null  float64\n",
            " 7   blood_glucose_level  100000 non-null  int64  \n",
            " 8   diabetes             100000 non-null  int64  \n",
            "dtypes: float64(3), int64(4), object(2)\n",
            "memory usage: 6.9+ MB\n"
          ]
        }
      ]
    },
    {
      "cell_type": "code",
      "source": [
        "print(pimaData.shape)"
      ],
      "metadata": {
        "colab": {
          "base_uri": "https://localhost:8080/"
        },
        "id": "2nwO5MHf6zhY",
        "outputId": "8c2bdda3-e6f9-4972-d2b8-60d2751c54fa"
      },
      "execution_count": 22,
      "outputs": [
        {
          "output_type": "stream",
          "name": "stdout",
          "text": [
            "(100000, 9)\n"
          ]
        }
      ]
    },
    {
      "cell_type": "code",
      "source": [
        "pimaData.isnull().sum()"
      ],
      "metadata": {
        "colab": {
          "base_uri": "https://localhost:8080/"
        },
        "id": "zvPvYN7561JD",
        "outputId": "cdd66676-ae68-46c6-c7ca-857ed371ca9e"
      },
      "execution_count": 23,
      "outputs": [
        {
          "output_type": "execute_result",
          "data": {
            "text/plain": [
              "gender                 0\n",
              "age                    0\n",
              "hypertension           0\n",
              "heart_disease          0\n",
              "smoking_history        0\n",
              "bmi                    0\n",
              "HbA1c_level            0\n",
              "blood_glucose_level    0\n",
              "diabetes               0\n",
              "dtype: int64"
            ]
          },
          "metadata": {},
          "execution_count": 23
        }
      ]
    },
    {
      "cell_type": "markdown",
      "source": [
        "Scaling the numerical features and encoding the categorical features"
      ],
      "metadata": {
        "id": "87GT7gPE82lh"
      }
    },
    {
      "cell_type": "code",
      "source": [
        "X = pimaData.drop('diabetes',axis=1)\n",
        "y = pimaData['diabetes']"
      ],
      "metadata": {
        "id": "qQAYNIDI7X5v"
      },
      "execution_count": 24,
      "outputs": []
    },
    {
      "cell_type": "markdown",
      "source": [
        "Using OneHotEncoder and StandardScaler"
      ],
      "metadata": {
        "id": "NJsm6xYP88Jv"
      }
    },
    {
      "cell_type": "code",
      "source": [
        "categoricalFeatures = ['gender', 'smoking_history']\n",
        "numericalFeatures = ['age', 'bmi', 'HbA1c_level', 'blood_glucose_level']"
      ],
      "metadata": {
        "id": "PcFwbQCL85XL"
      },
      "execution_count": 25,
      "outputs": []
    },
    {
      "cell_type": "code",
      "source": [
        "preprocessor = ColumnTransformer(\n",
        "    transformers=[\n",
        "         ('num', StandardScaler(), numericalFeatures),\n",
        "         ('cat', OneHotEncoder(), categoricalFeatures)\n",
        "    ]\n",
        ")"
      ],
      "metadata": {
        "id": "bya2Y5Yc85UG"
      },
      "execution_count": 26,
      "outputs": []
    },
    {
      "cell_type": "markdown",
      "source": [
        "Splitting the dataset"
      ],
      "metadata": {
        "id": "epKIipEu9ARF"
      }
    },
    {
      "cell_type": "code",
      "source": [
        "X_train,X_test,y_train,y_test = train_test_split(X,y,test_size=0.2,random_state=42)"
      ],
      "metadata": {
        "id": "z3xG-vRR85R7"
      },
      "execution_count": 27,
      "outputs": []
    },
    {
      "cell_type": "markdown",
      "source": [
        "Applying encoding technique"
      ],
      "metadata": {
        "id": "yjLgW85R9E2o"
      }
    },
    {
      "cell_type": "code",
      "source": [
        "X_train_encoded = preprocessor.fit_transform(X_train)\n",
        "X_test_encoded = preprocessor.transform(X_test)"
      ],
      "metadata": {
        "id": "VSmR7k8z85Pq"
      },
      "execution_count": 28,
      "outputs": []
    },
    {
      "cell_type": "markdown",
      "source": [
        "Converting the features into numpy arrays"
      ],
      "metadata": {
        "id": "kpGJkPjg9Lsf"
      }
    },
    {
      "cell_type": "code",
      "source": [
        "X_train_encoded = np.array(X_train_encoded)\n",
        "X_test_encoded = np.array(X_test_encoded)\n",
        "y_train = np.array(y_train)\n",
        "y_test = np.array(y_test)"
      ],
      "metadata": {
        "id": "gtEfzD-X85N2"
      },
      "execution_count": 29,
      "outputs": []
    },
    {
      "cell_type": "code",
      "source": [
        "print(np.isnan(X_train_encoded).any(), np.isinf(X_train_encoded).any())\n",
        "print(np.isnan(y_train).any(), np.isinf(y_train).any())"
      ],
      "metadata": {
        "colab": {
          "base_uri": "https://localhost:8080/"
        },
        "id": "HYR_I5wf85Ll",
        "outputId": "d7cfdab5-2adb-45dc-b2a9-5ba9f8e8bab5"
      },
      "execution_count": 30,
      "outputs": [
        {
          "output_type": "stream",
          "name": "stdout",
          "text": [
            "False False\n",
            "False False\n"
          ]
        }
      ]
    },
    {
      "cell_type": "markdown",
      "source": [
        "Building the Neural Network Model"
      ],
      "metadata": {
        "id": "qds1eOrT9TTR"
      }
    },
    {
      "cell_type": "code",
      "source": [
        "model = Sequential()\n",
        "model.add(Dense(64, input_dim=X_train_encoded.shape[1], activation='relu', kernel_regularizer=l1(0.01)))  # L1\n",
        "model.add(Dense(32, activation='relu', kernel_regularizer=l2(0.01)))  # L2\n",
        "model.add(Dense(16, activation='relu', kernel_regularizer=l1_l2(l1=0.01, l2=0.01)))  # Elastic Net\n",
        "model.add(Dense(1, activation='sigmoid'))"
      ],
      "metadata": {
        "id": "x6Q9sGcE85JZ"
      },
      "execution_count": 31,
      "outputs": []
    },
    {
      "cell_type": "markdown",
      "source": [
        "**Inference**\n",
        "\n",
        "Input layer with L1 regularization\n",
        "\n",
        "kernel_regularizer=l1(0.01) - Applies L1 regularization to the weights of the layer. This helps prevent overfitting by adding a penalty term to the loss function based on the absolute values of the weights multiplied by the regularization strength.\n",
        "\n",
        "Hidden layer with L2 regularization\n",
        "\n",
        "kernel_regularizer=l2(0.01) - Applies L2 regularization to the weights of this layer. L2 regularization penalizes the sum of squared weights, helping to prevent large weights and overfitting.\n",
        "\n",
        "Hidden layer with Elastic Net regularization\n",
        "\n",
        "kernel_regularizer=l1_l2(l1=0.01, l2=0.01) - It Applies both L1 and L2 regularization to the weights of this layer. This is referred to as elastic net regularization, which combines L1 and L2 penalties. The parameters l1 and l2 control the strength of each regularization term."
      ],
      "metadata": {
        "id": "lRSCq8Xf9h8z"
      }
    },
    {
      "cell_type": "markdown",
      "source": [
        "All the above mentioned layers using relu activation function\n",
        "\n",
        "Output layer with sigmoid activation function\n",
        "\n",
        "Applies the sigmoid activation function, which squashes the output between 0 and 1, representing the probability of the positive class."
      ],
      "metadata": {
        "id": "21x20FDQ9k2n"
      }
    },
    {
      "cell_type": "markdown",
      "source": [
        "Compiling the model"
      ],
      "metadata": {
        "id": "Cun_fZb19sw9"
      }
    },
    {
      "cell_type": "code",
      "source": [
        "model.compile(optimizer='adam', loss='binary_crossentropy', metrics=['accuracy'])"
      ],
      "metadata": {
        "id": "bseJTMCc9uzf"
      },
      "execution_count": 32,
      "outputs": []
    },
    {
      "cell_type": "markdown",
      "source": [
        "Training the model"
      ],
      "metadata": {
        "id": "L2iWh8DT9xCG"
      }
    },
    {
      "cell_type": "code",
      "source": [
        "history = model.fit(X_train_encoded, y_train, epochs=50, batch_size=32, validation_split=0.2)"
      ],
      "metadata": {
        "colab": {
          "base_uri": "https://localhost:8080/"
        },
        "id": "kvDO-frT9zcQ",
        "outputId": "df4dce49-9283-4124-c312-2a83acb8f78b"
      },
      "execution_count": 33,
      "outputs": [
        {
          "output_type": "stream",
          "name": "stdout",
          "text": [
            "Epoch 1/50\n",
            "2000/2000 [==============================] - 10s 3ms/step - loss: 0.4113 - accuracy: 0.9433 - val_loss: 0.2045 - val_accuracy: 0.9611\n",
            "Epoch 2/50\n",
            "2000/2000 [==============================] - 10s 5ms/step - loss: 0.1941 - accuracy: 0.9594 - val_loss: 0.1848 - val_accuracy: 0.9594\n",
            "Epoch 3/50\n",
            "2000/2000 [==============================] - 6s 3ms/step - loss: 0.1790 - accuracy: 0.9595 - val_loss: 0.1751 - val_accuracy: 0.9613\n",
            "Epoch 4/50\n",
            "2000/2000 [==============================] - 7s 3ms/step - loss: 0.1708 - accuracy: 0.9599 - val_loss: 0.1674 - val_accuracy: 0.9601\n",
            "Epoch 5/50\n",
            "2000/2000 [==============================] - 7s 3ms/step - loss: 0.1673 - accuracy: 0.9599 - val_loss: 0.1672 - val_accuracy: 0.9606\n",
            "Epoch 6/50\n",
            "2000/2000 [==============================] - 6s 3ms/step - loss: 0.1656 - accuracy: 0.9598 - val_loss: 0.1638 - val_accuracy: 0.9599\n",
            "Epoch 7/50\n",
            "2000/2000 [==============================] - 5s 2ms/step - loss: 0.1640 - accuracy: 0.9598 - val_loss: 0.1617 - val_accuracy: 0.9601\n",
            "Epoch 8/50\n",
            "2000/2000 [==============================] - 7s 4ms/step - loss: 0.1626 - accuracy: 0.9598 - val_loss: 0.1619 - val_accuracy: 0.9610\n",
            "Epoch 9/50\n",
            "2000/2000 [==============================] - 5s 3ms/step - loss: 0.1612 - accuracy: 0.9600 - val_loss: 0.1590 - val_accuracy: 0.9614\n",
            "Epoch 10/50\n",
            "2000/2000 [==============================] - 6s 3ms/step - loss: 0.1599 - accuracy: 0.9597 - val_loss: 0.1594 - val_accuracy: 0.9598\n",
            "Epoch 11/50\n",
            "2000/2000 [==============================] - 6s 3ms/step - loss: 0.1590 - accuracy: 0.9599 - val_loss: 0.1564 - val_accuracy: 0.9613\n",
            "Epoch 12/50\n",
            "2000/2000 [==============================] - 6s 3ms/step - loss: 0.1575 - accuracy: 0.9600 - val_loss: 0.1573 - val_accuracy: 0.9609\n",
            "Epoch 13/50\n",
            "2000/2000 [==============================] - 6s 3ms/step - loss: 0.1562 - accuracy: 0.9597 - val_loss: 0.1548 - val_accuracy: 0.9613\n",
            "Epoch 14/50\n",
            "2000/2000 [==============================] - 6s 3ms/step - loss: 0.1546 - accuracy: 0.9602 - val_loss: 0.1531 - val_accuracy: 0.9615\n",
            "Epoch 15/50\n",
            "2000/2000 [==============================] - 6s 3ms/step - loss: 0.1535 - accuracy: 0.9599 - val_loss: 0.1514 - val_accuracy: 0.9616\n",
            "Epoch 16/50\n",
            "2000/2000 [==============================] - 8s 4ms/step - loss: 0.1527 - accuracy: 0.9603 - val_loss: 0.1514 - val_accuracy: 0.9609\n",
            "Epoch 17/50\n",
            "2000/2000 [==============================] - 7s 3ms/step - loss: 0.1520 - accuracy: 0.9600 - val_loss: 0.1522 - val_accuracy: 0.9598\n",
            "Epoch 18/50\n",
            "2000/2000 [==============================] - 6s 3ms/step - loss: 0.1516 - accuracy: 0.9603 - val_loss: 0.1519 - val_accuracy: 0.9603\n",
            "Epoch 19/50\n",
            "2000/2000 [==============================] - 5s 3ms/step - loss: 0.1512 - accuracy: 0.9603 - val_loss: 0.1516 - val_accuracy: 0.9597\n",
            "Epoch 20/50\n",
            "2000/2000 [==============================] - 6s 3ms/step - loss: 0.1509 - accuracy: 0.9599 - val_loss: 0.1503 - val_accuracy: 0.9609\n",
            "Epoch 21/50\n",
            "2000/2000 [==============================] - 5s 3ms/step - loss: 0.1508 - accuracy: 0.9603 - val_loss: 0.1493 - val_accuracy: 0.9611\n",
            "Epoch 22/50\n",
            "2000/2000 [==============================] - 6s 3ms/step - loss: 0.1501 - accuracy: 0.9604 - val_loss: 0.1491 - val_accuracy: 0.9616\n",
            "Epoch 23/50\n",
            "2000/2000 [==============================] - 6s 3ms/step - loss: 0.1501 - accuracy: 0.9601 - val_loss: 0.1494 - val_accuracy: 0.9617\n",
            "Epoch 24/50\n",
            "2000/2000 [==============================] - 5s 2ms/step - loss: 0.1498 - accuracy: 0.9600 - val_loss: 0.1485 - val_accuracy: 0.9615\n",
            "Epoch 25/50\n",
            "2000/2000 [==============================] - 6s 3ms/step - loss: 0.1495 - accuracy: 0.9605 - val_loss: 0.1486 - val_accuracy: 0.9608\n",
            "Epoch 26/50\n",
            "2000/2000 [==============================] - 5s 3ms/step - loss: 0.1493 - accuracy: 0.9603 - val_loss: 0.1484 - val_accuracy: 0.9607\n",
            "Epoch 27/50\n",
            "2000/2000 [==============================] - 6s 3ms/step - loss: 0.1493 - accuracy: 0.9600 - val_loss: 0.1480 - val_accuracy: 0.9614\n",
            "Epoch 28/50\n",
            "2000/2000 [==============================] - 5s 2ms/step - loss: 0.1490 - accuracy: 0.9603 - val_loss: 0.1508 - val_accuracy: 0.9591\n",
            "Epoch 29/50\n",
            "2000/2000 [==============================] - 6s 3ms/step - loss: 0.1485 - accuracy: 0.9602 - val_loss: 0.1479 - val_accuracy: 0.9614\n",
            "Epoch 30/50\n",
            "2000/2000 [==============================] - 5s 3ms/step - loss: 0.1482 - accuracy: 0.9604 - val_loss: 0.1474 - val_accuracy: 0.9614\n",
            "Epoch 31/50\n",
            "2000/2000 [==============================] - 5s 2ms/step - loss: 0.1482 - accuracy: 0.9605 - val_loss: 0.1469 - val_accuracy: 0.9615\n",
            "Epoch 32/50\n",
            "2000/2000 [==============================] - 6s 3ms/step - loss: 0.1480 - accuracy: 0.9602 - val_loss: 0.1471 - val_accuracy: 0.9607\n",
            "Epoch 33/50\n",
            "2000/2000 [==============================] - 5s 3ms/step - loss: 0.1477 - accuracy: 0.9602 - val_loss: 0.1467 - val_accuracy: 0.9616\n",
            "Epoch 34/50\n",
            "2000/2000 [==============================] - 6s 3ms/step - loss: 0.1475 - accuracy: 0.9598 - val_loss: 0.1468 - val_accuracy: 0.9607\n",
            "Epoch 35/50\n",
            "2000/2000 [==============================] - 6s 3ms/step - loss: 0.1477 - accuracy: 0.9602 - val_loss: 0.1466 - val_accuracy: 0.9611\n",
            "Epoch 36/50\n",
            "2000/2000 [==============================] - 7s 3ms/step - loss: 0.1472 - accuracy: 0.9603 - val_loss: 0.1486 - val_accuracy: 0.9603\n",
            "Epoch 37/50\n",
            "2000/2000 [==============================] - 6s 3ms/step - loss: 0.1470 - accuracy: 0.9599 - val_loss: 0.1461 - val_accuracy: 0.9613\n",
            "Epoch 38/50\n",
            "2000/2000 [==============================] - 6s 3ms/step - loss: 0.1471 - accuracy: 0.9598 - val_loss: 0.1468 - val_accuracy: 0.9611\n",
            "Epoch 39/50\n",
            "2000/2000 [==============================] - 5s 3ms/step - loss: 0.1470 - accuracy: 0.9602 - val_loss: 0.1457 - val_accuracy: 0.9609\n",
            "Epoch 40/50\n",
            "2000/2000 [==============================] - 6s 3ms/step - loss: 0.1468 - accuracy: 0.9600 - val_loss: 0.1458 - val_accuracy: 0.9614\n",
            "Epoch 41/50\n",
            "2000/2000 [==============================] - 5s 3ms/step - loss: 0.1464 - accuracy: 0.9604 - val_loss: 0.1456 - val_accuracy: 0.9615\n",
            "Epoch 42/50\n",
            "2000/2000 [==============================] - 6s 3ms/step - loss: 0.1466 - accuracy: 0.9600 - val_loss: 0.1459 - val_accuracy: 0.9603\n",
            "Epoch 43/50\n",
            "2000/2000 [==============================] - 5s 3ms/step - loss: 0.1463 - accuracy: 0.9603 - val_loss: 0.1489 - val_accuracy: 0.9586\n",
            "Epoch 44/50\n",
            "2000/2000 [==============================] - 5s 3ms/step - loss: 0.1462 - accuracy: 0.9600 - val_loss: 0.1454 - val_accuracy: 0.9608\n",
            "Epoch 45/50\n",
            "2000/2000 [==============================] - 6s 3ms/step - loss: 0.1462 - accuracy: 0.9602 - val_loss: 0.1449 - val_accuracy: 0.9617\n",
            "Epoch 46/50\n",
            "2000/2000 [==============================] - 6s 3ms/step - loss: 0.1460 - accuracy: 0.9597 - val_loss: 0.1455 - val_accuracy: 0.9608\n",
            "Epoch 47/50\n",
            "2000/2000 [==============================] - 7s 4ms/step - loss: 0.1460 - accuracy: 0.9601 - val_loss: 0.1476 - val_accuracy: 0.9593\n",
            "Epoch 48/50\n",
            "2000/2000 [==============================] - 5s 3ms/step - loss: 0.1456 - accuracy: 0.9602 - val_loss: 0.1446 - val_accuracy: 0.9616\n",
            "Epoch 49/50\n",
            "2000/2000 [==============================] - 7s 3ms/step - loss: 0.1456 - accuracy: 0.9603 - val_loss: 0.1446 - val_accuracy: 0.9614\n",
            "Epoch 50/50\n",
            "2000/2000 [==============================] - 6s 3ms/step - loss: 0.1454 - accuracy: 0.9599 - val_loss: 0.1445 - val_accuracy: 0.9613\n"
          ]
        }
      ]
    },
    {
      "cell_type": "markdown",
      "source": [
        "Inference: The loss is getting decrease after each and every epoch. The accuracy also looks fine."
      ],
      "metadata": {
        "id": "KnW5MPAy95VA"
      }
    },
    {
      "cell_type": "markdown",
      "source": [
        "Evaluating the model"
      ],
      "metadata": {
        "id": "NI4NQz1z97ZE"
      }
    },
    {
      "cell_type": "code",
      "source": [
        "y_pred = model.predict(X_test_encoded)\n",
        "y_pred_binary = (y_pred > 0.5).astype(int)\n",
        "\n",
        "accuracy = accuracy_score(y_test, y_pred_binary)\n",
        "precision = precision_score(y_test, y_pred_binary)\n",
        "recall = recall_score(y_test, y_pred_binary)\n",
        "f1 = f1_score(y_test, y_pred_binary)"
      ],
      "metadata": {
        "colab": {
          "base_uri": "https://localhost:8080/"
        },
        "id": "zL1aS5SZ919c",
        "outputId": "7c3bc0b5-7156-42fb-8660-3743357c10b3"
      },
      "execution_count": 34,
      "outputs": [
        {
          "output_type": "stream",
          "name": "stdout",
          "text": [
            "625/625 [==============================] - 1s 2ms/step\n"
          ]
        }
      ]
    },
    {
      "cell_type": "code",
      "source": [
        "print(f\"Accuracy: {accuracy:.4f}, Precision: {precision:.4f}, Recall: {recall:.4f}, F1-Score: {f1:.4f}\")"
      ],
      "metadata": {
        "colab": {
          "base_uri": "https://localhost:8080/"
        },
        "id": "31d-ug8d9_0V",
        "outputId": "d5a84b00-7c8b-461b-ed41-4d61eefc9286"
      },
      "execution_count": 35,
      "outputs": [
        {
          "output_type": "stream",
          "name": "stdout",
          "text": [
            "Accuracy: 0.9583, Precision: 0.9016, Recall: 0.5738, F1-Score: 0.7013\n"
          ]
        }
      ]
    },
    {
      "cell_type": "markdown",
      "source": [
        "Inference: Evaluated the model, by seeing the results we can confirm that model is performing well on unseen data."
      ],
      "metadata": {
        "id": "M2TDTXaR-AWj"
      }
    },
    {
      "cell_type": "markdown",
      "source": [
        "**Visualization**"
      ],
      "metadata": {
        "id": "g5ZuaUHB-FO_"
      }
    },
    {
      "cell_type": "code",
      "source": [
        "plt.plot(history.history['accuracy'], label='Train Accuracy')\n",
        "plt.plot(history.history['val_accuracy'], label='Validation Accuracy')\n",
        "plt.xlabel('Epochs')\n",
        "plt.ylabel('Accuracy')\n",
        "plt.legend()\n",
        "plt.show()"
      ],
      "metadata": {
        "colab": {
          "base_uri": "https://localhost:8080/",
          "height": 452
        },
        "id": "ZRZmMQZ_-Dod",
        "outputId": "9cc8fb65-7e6c-4538-e0c0-58eafdc403a7"
      },
      "execution_count": 36,
      "outputs": [
        {
          "output_type": "display_data",
          "data": {
            "text/plain": [
              "<Figure size 640x480 with 1 Axes>"
            ],
            "image/png": "[encoded data removed]"
          },
          "metadata": {}
        }
      ]
    },
    {
      "cell_type": "code",
      "source": [
        "confMatrix = confusion_matrix(y_test,y_pred_binary)\n",
        "print(\"Confusion Matrix :\\n \",confMatrix)"
      ],
      "metadata": {
        "colab": {
          "base_uri": "https://localhost:8080/"
        },
        "id": "fKAvnv0R-KZ1",
        "outputId": "7fcded7c-3c7b-421b-bb74-f9e8aa2ec598"
      },
      "execution_count": 37,
      "outputs": [
        {
          "output_type": "stream",
          "name": "stdout",
          "text": [
            "Confusion Matrix :\n",
            "  [[18185   107]\n",
            " [  728   980]]\n"
          ]
        }
      ]
    },
    {
      "cell_type": "markdown",
      "source": [
        "ROC Curve"
      ],
      "metadata": {
        "id": "H8eCiqQp-NZ_"
      }
    },
    {
      "cell_type": "code",
      "source": [
        "fpr, tpr, _ = roc_curve(y_test, y_pred)\n",
        "roc_auc = auc(fpr, tpr)\n",
        "\n",
        "plt.figure()\n",
        "plt.plot(fpr, tpr, color='darkorange', lw=2, label='ROC curve (area = {:.2f})'.format(roc_auc))\n",
        "plt.plot([0, 1], [0, 1], color='navy', lw=2, linestyle='--')\n",
        "plt.xlabel('False Positive Rate')\n",
        "plt.ylabel('True Positive Rate')\n",
        "plt.title('Receiver Operating Characteristic Curve')\n",
        "plt.legend(loc='lower right')\n",
        "plt.show()"
      ],
      "metadata": {
        "colab": {
          "base_uri": "https://localhost:8080/",
          "height": 472
        },
        "id": "q_3kdzyd-KzZ",
        "outputId": "64b2c5c7-86fc-4083-b262-dbf6622943d9"
      },
      "execution_count": 40,
      "outputs": [
        {
          "output_type": "display_data",
          "data": {
            "text/plain": [
              "<Figure size 640x480 with 1 Axes>"
            ],
            "image/png": "[encoded data removed]"
          },
          "metadata": {}
        }
      ]
    },
    {
      "cell_type": "markdown",
      "source": [
        "**Conclusion**\n",
        "\n",
        "Thus the task to build a neural network model that can effectively predict the likelihood of a patient developing the disease is implemented successfully. Model performs well on unseen data, it is founded when we evaluated the model. By using this neural network model we can predict the likelihood of a patient developing a diabetic disease."
      ],
      "metadata": {
        "id": "apJFzZWA-SHD"
      }
    }
  ]
}